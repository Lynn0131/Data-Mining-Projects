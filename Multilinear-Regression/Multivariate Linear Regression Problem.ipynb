{
 "cells": [
  {
   "cell_type": "code",
   "execution_count": 69,
   "id": "2480abca",
   "metadata": {},
   "outputs": [],
   "source": [
    "import pandas as pd\n",
    "from sklearn.model_selection import train_test_split\n",
    "import numpy as np\n",
    "import matplotlib.pyplot as plt \n",
    "from sklearn.linear_model import LinearRegression\n",
    "from sklearn.metrics import mean_squared_error, r2_score\n",
    "import statistics as stat"
   ]
  },
  {
   "cell_type": "code",
   "execution_count": 23,
   "id": "6edd5075",
   "metadata": {},
   "outputs": [],
   "source": [
    "#Create a correlation matrix and pick the best two features for modelling using linear regression.\n",
    "data = pd.read_csv(\"ENB2012_data.CSV\")"
   ]
  },
  {
   "cell_type": "code",
   "execution_count": 33,
   "id": "c04ada2c",
   "metadata": {},
   "outputs": [
    {
     "data": {
      "text/html": [
       "<div>\n",
       "<style scoped>\n",
       "    .dataframe tbody tr th:only-of-type {\n",
       "        vertical-align: middle;\n",
       "    }\n",
       "\n",
       "    .dataframe tbody tr th {\n",
       "        vertical-align: top;\n",
       "    }\n",
       "\n",
       "    .dataframe thead th {\n",
       "        text-align: right;\n",
       "    }\n",
       "</style>\n",
       "<table border=\"1\" class=\"dataframe\">\n",
       "  <thead>\n",
       "    <tr style=\"text-align: right;\">\n",
       "      <th></th>\n",
       "      <th>X1</th>\n",
       "      <th>X2</th>\n",
       "      <th>X3</th>\n",
       "      <th>X4</th>\n",
       "      <th>X5</th>\n",
       "      <th>X6</th>\n",
       "      <th>X7</th>\n",
       "      <th>X8</th>\n",
       "      <th>Y1</th>\n",
       "      <th>Y2</th>\n",
       "    </tr>\n",
       "  </thead>\n",
       "  <tbody>\n",
       "    <tr>\n",
       "      <th>X1</th>\n",
       "      <td>1.000000e+00</td>\n",
       "      <td>-9.919015e-01</td>\n",
       "      <td>-2.037817e-01</td>\n",
       "      <td>-8.688234e-01</td>\n",
       "      <td>8.277473e-01</td>\n",
       "      <td>4.678592e-17</td>\n",
       "      <td>-2.960552e-15</td>\n",
       "      <td>-7.107006e-16</td>\n",
       "      <td>0.622272</td>\n",
       "      <td>0.634339</td>\n",
       "    </tr>\n",
       "    <tr>\n",
       "      <th>X2</th>\n",
       "      <td>-9.919015e-01</td>\n",
       "      <td>1.000000e+00</td>\n",
       "      <td>1.955016e-01</td>\n",
       "      <td>8.807195e-01</td>\n",
       "      <td>-8.581477e-01</td>\n",
       "      <td>-3.459372e-17</td>\n",
       "      <td>3.636925e-15</td>\n",
       "      <td>2.438409e-15</td>\n",
       "      <td>-0.658120</td>\n",
       "      <td>-0.672999</td>\n",
       "    </tr>\n",
       "    <tr>\n",
       "      <th>X3</th>\n",
       "      <td>-2.037817e-01</td>\n",
       "      <td>1.955016e-01</td>\n",
       "      <td>1.000000e+00</td>\n",
       "      <td>-2.923165e-01</td>\n",
       "      <td>2.809757e-01</td>\n",
       "      <td>-2.429499e-17</td>\n",
       "      <td>-8.567455e-17</td>\n",
       "      <td>2.067384e-16</td>\n",
       "      <td>0.455671</td>\n",
       "      <td>0.427117</td>\n",
       "    </tr>\n",
       "    <tr>\n",
       "      <th>X4</th>\n",
       "      <td>-8.688234e-01</td>\n",
       "      <td>8.807195e-01</td>\n",
       "      <td>-2.923165e-01</td>\n",
       "      <td>1.000000e+00</td>\n",
       "      <td>-9.725122e-01</td>\n",
       "      <td>-5.830058e-17</td>\n",
       "      <td>-1.759011e-15</td>\n",
       "      <td>-1.078071e-15</td>\n",
       "      <td>-0.861828</td>\n",
       "      <td>-0.862547</td>\n",
       "    </tr>\n",
       "    <tr>\n",
       "      <th>X5</th>\n",
       "      <td>8.277473e-01</td>\n",
       "      <td>-8.581477e-01</td>\n",
       "      <td>2.809757e-01</td>\n",
       "      <td>-9.725122e-01</td>\n",
       "      <td>1.000000e+00</td>\n",
       "      <td>4.492205e-17</td>\n",
       "      <td>1.489134e-17</td>\n",
       "      <td>-2.920613e-17</td>\n",
       "      <td>0.889431</td>\n",
       "      <td>0.895785</td>\n",
       "    </tr>\n",
       "    <tr>\n",
       "      <th>X6</th>\n",
       "      <td>4.678592e-17</td>\n",
       "      <td>-3.459372e-17</td>\n",
       "      <td>-2.429499e-17</td>\n",
       "      <td>-5.830058e-17</td>\n",
       "      <td>4.492205e-17</td>\n",
       "      <td>1.000000e+00</td>\n",
       "      <td>-9.406007e-16</td>\n",
       "      <td>-2.549352e-16</td>\n",
       "      <td>-0.002587</td>\n",
       "      <td>0.014290</td>\n",
       "    </tr>\n",
       "    <tr>\n",
       "      <th>X7</th>\n",
       "      <td>-2.960552e-15</td>\n",
       "      <td>3.636925e-15</td>\n",
       "      <td>-8.567455e-17</td>\n",
       "      <td>-1.759011e-15</td>\n",
       "      <td>1.489134e-17</td>\n",
       "      <td>-9.406007e-16</td>\n",
       "      <td>1.000000e+00</td>\n",
       "      <td>2.129642e-01</td>\n",
       "      <td>0.269841</td>\n",
       "      <td>0.207505</td>\n",
       "    </tr>\n",
       "    <tr>\n",
       "      <th>X8</th>\n",
       "      <td>-7.107006e-16</td>\n",
       "      <td>2.438409e-15</td>\n",
       "      <td>2.067384e-16</td>\n",
       "      <td>-1.078071e-15</td>\n",
       "      <td>-2.920613e-17</td>\n",
       "      <td>-2.549352e-16</td>\n",
       "      <td>2.129642e-01</td>\n",
       "      <td>1.000000e+00</td>\n",
       "      <td>0.087368</td>\n",
       "      <td>0.050525</td>\n",
       "    </tr>\n",
       "    <tr>\n",
       "      <th>Y1</th>\n",
       "      <td>6.222722e-01</td>\n",
       "      <td>-6.581202e-01</td>\n",
       "      <td>4.556712e-01</td>\n",
       "      <td>-8.618283e-01</td>\n",
       "      <td>8.894307e-01</td>\n",
       "      <td>-2.586534e-03</td>\n",
       "      <td>2.698410e-01</td>\n",
       "      <td>8.736759e-02</td>\n",
       "      <td>1.000000</td>\n",
       "      <td>0.975862</td>\n",
       "    </tr>\n",
       "    <tr>\n",
       "      <th>Y2</th>\n",
       "      <td>6.343391e-01</td>\n",
       "      <td>-6.729989e-01</td>\n",
       "      <td>4.271170e-01</td>\n",
       "      <td>-8.625466e-01</td>\n",
       "      <td>8.957852e-01</td>\n",
       "      <td>1.428960e-02</td>\n",
       "      <td>2.075050e-01</td>\n",
       "      <td>5.052512e-02</td>\n",
       "      <td>0.975862</td>\n",
       "      <td>1.000000</td>\n",
       "    </tr>\n",
       "  </tbody>\n",
       "</table>\n",
       "</div>"
      ],
      "text/plain": [
       "              X1            X2            X3            X4            X5  \\\n",
       "X1  1.000000e+00 -9.919015e-01 -2.037817e-01 -8.688234e-01  8.277473e-01   \n",
       "X2 -9.919015e-01  1.000000e+00  1.955016e-01  8.807195e-01 -8.581477e-01   \n",
       "X3 -2.037817e-01  1.955016e-01  1.000000e+00 -2.923165e-01  2.809757e-01   \n",
       "X4 -8.688234e-01  8.807195e-01 -2.923165e-01  1.000000e+00 -9.725122e-01   \n",
       "X5  8.277473e-01 -8.581477e-01  2.809757e-01 -9.725122e-01  1.000000e+00   \n",
       "X6  4.678592e-17 -3.459372e-17 -2.429499e-17 -5.830058e-17  4.492205e-17   \n",
       "X7 -2.960552e-15  3.636925e-15 -8.567455e-17 -1.759011e-15  1.489134e-17   \n",
       "X8 -7.107006e-16  2.438409e-15  2.067384e-16 -1.078071e-15 -2.920613e-17   \n",
       "Y1  6.222722e-01 -6.581202e-01  4.556712e-01 -8.618283e-01  8.894307e-01   \n",
       "Y2  6.343391e-01 -6.729989e-01  4.271170e-01 -8.625466e-01  8.957852e-01   \n",
       "\n",
       "              X6            X7            X8        Y1        Y2  \n",
       "X1  4.678592e-17 -2.960552e-15 -7.107006e-16  0.622272  0.634339  \n",
       "X2 -3.459372e-17  3.636925e-15  2.438409e-15 -0.658120 -0.672999  \n",
       "X3 -2.429499e-17 -8.567455e-17  2.067384e-16  0.455671  0.427117  \n",
       "X4 -5.830058e-17 -1.759011e-15 -1.078071e-15 -0.861828 -0.862547  \n",
       "X5  4.492205e-17  1.489134e-17 -2.920613e-17  0.889431  0.895785  \n",
       "X6  1.000000e+00 -9.406007e-16 -2.549352e-16 -0.002587  0.014290  \n",
       "X7 -9.406007e-16  1.000000e+00  2.129642e-01  0.269841  0.207505  \n",
       "X8 -2.549352e-16  2.129642e-01  1.000000e+00  0.087368  0.050525  \n",
       "Y1 -2.586534e-03  2.698410e-01  8.736759e-02  1.000000  0.975862  \n",
       "Y2  1.428960e-02  2.075050e-01  5.052512e-02  0.975862  1.000000  "
      ]
     },
     "execution_count": 33,
     "metadata": {},
     "output_type": "execute_result"
    }
   ],
   "source": [
    "d = data.dropna(how='all')\n",
    "d1= d.dropna(axis = 'columns', how = 'all')\n",
    "features = d1.values[:, 0:-2]\n",
    "y1 = d1.values[:, -2]\n",
    "y2 = d1.values[:, -1]\n",
    "corr = d1.corr()\n",
    "corr"
   ]
  },
  {
   "cell_type": "code",
   "execution_count": 44,
   "id": "561f94c9",
   "metadata": {},
   "outputs": [
    {
     "name": "stdout",
     "output_type": "stream",
     "text": [
      "Mean squared error: 3.10\n",
      "R2 score: 0.90\n"
     ]
    },
    {
     "data": {
      "text/plain": [
       "[<matplotlib.lines.Line2D at 0x7f98d9c158b0>]"
      ]
     },
     "execution_count": 44,
     "metadata": {},
     "output_type": "execute_result"
    },
    {
     "data": {
      "image/png": "[encoded data removed]",
      "text/plain": [
       "<Figure size 432x288 with 1 Axes>"
      ]
     },
     "metadata": {
      "needs_background": "light"
     },
     "output_type": "display_data"
    }
   ],
   "source": [
    "#Develop a linear regression model for estimating y1 (heating load) using 60 percent \n",
    "#of data picked randomly for training and remaining for testing.  \n",
    "#Visualise your model prediction using appropriate plots. Report the RMSE and R-squared score. \n",
    "X_train, X_test, y_train, y_test = train_test_split(features, y1, test_size=0.4, random_state=1)\n",
    "reg = LinearRegression().fit(X_train, y_train)\n",
    "y_pred = reg.predict(X_test)\n",
    "# The mean squared error\n",
    "print(\"Mean squared error: %.2f\" % np.sqrt(mean_squared_error(y_test, y_pred)))\n",
    "# Explained variance score: 1 is perfect prediction\n",
    "print('R2 score: %.2f' % r2_score(y_test, y_pred))\n",
    "residuals = y_pred - y_test\n",
    "plt.plot(residuals, linewidth=1)"
   ]
  },
  {
   "cell_type": "code",
   "execution_count": 72,
   "id": "dd506e33",
   "metadata": {},
   "outputs": [],
   "source": [
    "#Try the approach with all input features, i) without normalising input data\n",
    "#ii) with normalising input data.\n",
    "def linear_regre(x,y,percent, i):\n",
    "    X_train, X_test, y_train, y_test = train_test_split(x, y, test_size=percent, random_state= i)\n",
    "    reg = LinearRegression().fit(X_train, y_train)\n",
    "    y_pred = reg.predict(X_test)\n",
    "    rmse = np.sqrt(mean_squared_error(y_test, y_pred))\n",
    "    r_squared = r2_score(y_test, y_pred)\n",
    "    return rmse, r_squared\n",
    "def normalise(x):\n",
    "    min_x = x.min(0) \n",
    "    max_x = x.max(0)\n",
    "    normalised_x = (x - min_x) / (max_x - min_x)\n",
    "    return normalised_x"
   ]
  },
  {
   "cell_type": "code",
   "execution_count": 73,
   "id": "356e4b90",
   "metadata": {},
   "outputs": [],
   "source": [
    "rmse_normalised, r_squred_normalised = linear_regre(normalise(features), y1, 0.4, 1)"
   ]
  },
  {
   "cell_type": "code",
   "execution_count": 74,
   "id": "03aa4b7a",
   "metadata": {},
   "outputs": [
    {
     "name": "stdout",
     "output_type": "stream",
     "text": [
      "Mean Squared Error with Normalisetion:  3.105656236427757\n",
      "R2 Score with Normalisation: 0.9027914582416653\n"
     ]
    }
   ],
   "source": [
    "print('Mean Squared Error with Normalisetion: ', rmse_normalised)     \n",
    "print('R2 Score with Normalisation:',r_squred_normalised)"
   ]
  },
  {
   "cell_type": "code",
   "execution_count": 75,
   "id": "9094ce98",
   "metadata": {},
   "outputs": [],
   "source": [
    "#Run 30 experiments each and report the mean and std of the RMSE and R-squared score \n",
    "#of the train and test datasets\n",
    "rmsel = []\n",
    "r2l = []\n",
    "for i in range(0, 30):\n",
    "    rmse, r_squared = linear_regre(features, y1, 0.4, i)\n",
    "    rmsel.append(rmse)\n",
    "    r2l.append(r_squared)\n",
    "mean_rmse = sum(rmsel)/len(rmsel)\n",
    "mean_r2 = sum(r2l)/len(r2l)\n",
    "sd_rmse = stat.stdev(rmsel)\n",
    "sd_r2 = stat.stdev(r2l)"
   ]
  },
  {
   "cell_type": "code",
   "execution_count": 77,
   "id": "dd403319",
   "metadata": {},
   "outputs": [
    {
     "name": "stdout",
     "output_type": "stream",
     "text": [
      "Mean and Standard Deviation of RMSE: 2.9973671156590305 0.09404575390354628\n",
      "Mean and Standard Deviation of RMSE: 0.9111853114260041 0.005620226792953343\n"
     ]
    }
   ],
   "source": [
    "print('Mean and Standard Deviation of RMSE:', mean_rmse, sd_rmse)\n",
    "print('Mean and Standard Deviation of RMSE:', mean_r2, sd_r2)"
   ]
  }
 ],
 "metadata": {
  "kernelspec": {
   "display_name": "Python 3 (ipykernel)",
   "language": "python",
   "name": "python3"
  },
  "language_info": {
   "codemirror_mode": {
    "name": "ipython",
    "version": 3
   },
   "file_extension": ".py",
   "mimetype": "text/x-python",
   "name": "python",
   "nbconvert_exporter": "python",
   "pygments_lexer": "ipython3",
   "version": "3.9.12"
  }
 },
 "nbformat": 4,
 "nbformat_minor": 5
}
