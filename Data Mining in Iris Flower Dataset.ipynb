{
 "cells": [
  {
   "cell_type": "code",
   "execution_count": 14,
   "id": "4be46bcf",
   "metadata": {},
   "outputs": [],
   "source": [
    "import pandas as pd\n",
    "from sklearn.preprocessing import OneHotEncoder\n",
    "import numpy as np\n",
    "import matplotlib.pyplot as plt \n",
    "from sklearn.model_selection import train_test_split\n",
    "from sklearn.linear_model import LinearRegression\n",
    "from sklearn.metrics import mean_squared_error, r2_score"
   ]
  },
  {
   "cell_type": "code",
   "execution_count": 3,
   "id": "c26e38b9",
   "metadata": {},
   "outputs": [],
   "source": [
    "iris = pd.read_csv(\"IRIS.CSV\")\n",
    "features = iris.values[:,0:-1]"
   ]
  },
  {
   "cell_type": "code",
   "execution_count": 4,
   "id": "c39df6c1",
   "metadata": {},
   "outputs": [],
   "source": [
    "y = iris['species'].to_numpy()"
   ]
  },
  {
   "cell_type": "code",
   "execution_count": 5,
   "id": "a72f5b92",
   "metadata": {},
   "outputs": [],
   "source": [
    "#Use simple find and replace to convert the class labels to 1, 2, and 3 in the dataset\n",
    "for i in range(len(y)):\n",
    "    if y[i] == 'Iris-setosa':\n",
    "        y[i] = '1'\n",
    "    elif y[i] == 'Iris-versicolor':\n",
    "        y[i] = '2'\n",
    "    else:\n",
    "        y[i] = '3'  "
   ]
  },
  {
   "cell_type": "code",
   "execution_count": 6,
   "id": "01ef7462",
   "metadata": {},
   "outputs": [
    {
     "name": "stdout",
     "output_type": "stream",
     "text": [
      "    Sepal Length Sepal Width Petal Length Petal Width\n",
      "Mean    5.84         3.05        3.76          1.2\n",
      "Std     0.83         0.43        1.76          0.76\n"
     ]
    }
   ],
   "source": [
    "#Read the data and report mean and standard deviation for each column in the features (4 features)\n",
    "f1 = iris['sepal_length']\n",
    "f2 = iris['sepal_width']\n",
    "f3 = iris['petal_length']\n",
    "f4 = iris['petal_width']\n",
    "f1_mean = np.mean(f1.to_numpy())\n",
    "f2_mean = np.mean(f2.to_numpy())\n",
    "f3_mean = np.mean(f3.to_numpy())\n",
    "f4_mean = np.mean(f4.to_numpy())\n",
    "f1_sd = np.std(f1.to_numpy())\n",
    "f2_sd = np.std(f2.to_numpy())\n",
    "f3_sd = np.std(f3.to_numpy())\n",
    "f4_sd = np.std(f4.to_numpy())\n",
    "print('    Sepal Length', 'Sepal Width', 'Petal Length', 'Petal Width')\n",
    "print('Mean   ', round(f1_mean,2), '       ', round(f2_mean,2), '      ', round(f3_mean,2), '        ',round(f4_mean,2) )\n",
    "print('Std    ', round(f1_sd,2), '       ', round(f2_sd,2), '      ', round(f3_sd,2), '        ',round(f4_sd,2) )"
   ]
  },
  {
   "cell_type": "code",
   "execution_count": 7,
   "id": "14184040",
   "metadata": {},
   "outputs": [
    {
     "name": "stdout",
     "output_type": "stream",
     "text": [
      "Class 1: 50\n",
      "Class 2: 50\n",
      "Class 3: 50\n"
     ]
    }
   ],
   "source": [
    "#Report the class distribution (i. e number of instances for each class)\n",
    "c1 = 0\n",
    "c2 = 0\n",
    "c3 = 0\n",
    "for i in range(len(y)):\n",
    "    if y[i] == '1':\n",
    "        c1+=1\n",
    "    elif y[i] == '2':\n",
    "        c2+=1\n",
    "    else:\n",
    "        c3+=1\n",
    "print('Class 1:', c1)\n",
    "print('Class 2:', c2)\n",
    "print('Class 3:', c3)"
   ]
  },
  {
   "cell_type": "code",
   "execution_count": 8,
   "id": "fc07e4ea",
   "metadata": {},
   "outputs": [
    {
     "data": {
      "image/png": "[encoded data removed]",
      "text/plain": [
       "<Figure size 432x288 with 1 Axes>"
      ]
     },
     "metadata": {
      "needs_background": "light"
     },
     "output_type": "display_data"
    },
    {
     "data": {
      "image/png": "[encoded data removed]",
      "text/plain": [
       "<Figure size 432x288 with 1 Axes>"
      ]
     },
     "metadata": {
      "needs_background": "light"
     },
     "output_type": "display_data"
    },
    {
     "data": {
      "image/png": "[encoded data removed]",
      "text/plain": [
       "<Figure size 432x288 with 1 Axes>"
      ]
     },
     "metadata": {
      "needs_background": "light"
     },
     "output_type": "display_data"
    },
    {
     "data": {
      "image/png": "[encoded data removed]",
      "text/plain": [
       "<Figure size 432x288 with 1 Axes>"
      ]
     },
     "metadata": {
      "needs_background": "light"
     },
     "output_type": "display_data"
    }
   ],
   "source": [
    "#Show histogram for each feature\n",
    "#Note you need to use a single function/method that outputs the histogram with a given filename\n",
    "#eg. feature1.png which is given as a parameter to the function\n",
    "#A for loop should be used to call the function/method\n",
    "num_of_features = iris.shape[1] - 1\n",
    "def histogram(name, feature):\n",
    "    plt.hist(feature) \n",
    "    plt.xlabel(name)\n",
    "    plt.savefig(f'{name}.png')\n",
    "    plt.show()\n",
    "for i in range(num_of_features):\n",
    "    name = 'feature'+ str(i)\n",
    "    data = features[:,i]\n",
    "    histogram(name, data)"
   ]
  },
  {
   "cell_type": "code",
   "execution_count": 9,
   "id": "0025b99e",
   "metadata": {},
   "outputs": [],
   "source": [
    "#Split data into a train and test. Use 60 percent data in the training and test set which is assigned \n",
    "#i. randomly ii. assigned by the first 60 percent as train and the rest as test \n",
    "def random_data_split(x,y,portion):\n",
    "    order = np.random.permutation(len(x))\n",
    "    train_index = int(len(x)*portion)\n",
    "    \n",
    "    t = order[:train_index]\n",
    "    x_train = x[t]\n",
    "    y_train = y[t]\n",
    "    t1 = order[train_index:]\n",
    "    x_test = x[t1]\n",
    "    y_test = y[t1]\n",
    "    return x_train, x_test, y_train, y_test\n",
    "\n",
    "def nonrandom_data_split(x, y, portion):\n",
    "    i = int(len(x) * portion)\n",
    "    x_train = x[:i]\n",
    "    y_train = y[:i]\n",
    "    x_test = x[i:]\n",
    "    y_test = y[i:]\n",
    "    return x_train, x_test, y_train, y_test\n",
    "#random split using 60%\n",
    "random_x_train, random_x_test, random_y_train, random_y_test = random_data_split(features, y, 0.6)\n",
    "nonrandom_x_train, nonrandom_x_test, nonrandom_y_train, nonrandom_y_test = nonrandom_data_split(features, y, 0.6)"
   ]
  },
  {
   "cell_type": "code",
   "execution_count": 10,
   "id": "70dce4ca",
   "metadata": {},
   "outputs": [],
   "source": [
    "#Create a subset of the dataset where you consider only instances that feature class 1 or 2\n",
    "#so that you treat this problem as a binary classification problem later\n",
    "#i.e save it as binary_iristrain.txt and binary_iristest.txt.\n",
    "#Carry out the stats and visuals in Step 6 for this dataset. \n",
    "subset1 = iris.values[iris.values[:, 4] == '1']\n",
    "subset2 = iris.values[iris.values[:, 4] == '2']\n",
    "subset = np.vstack((subset1, subset2))\n",
    "sub_x_train, sub_x_test, sub_y_train, sub_y_test = random_data_split(subset[:, :-1], subset[:, -1], 0.6)\n",
    "sub_train = np.hstack((sub_x_train, sub_y_train[:, np.newaxis]))\n",
    "sub_test = np.hstack((sub_x_test, sub_y_test[:, np.newaxis]))"
   ]
  },
  {
   "cell_type": "code",
   "execution_count": 11,
   "id": "a230b2bb",
   "metadata": {},
   "outputs": [],
   "source": [
    "#Can you normalise the input features between [0 and 1]? \n",
    "def normalise(x):\n",
    "    min_x = x.min(0) \n",
    "    max_x = x.max(0)\n",
    "    normalised_x = (x - min_x) / (max_x - min_x)\n",
    "    return normalised_x"
   ]
  },
  {
   "cell_type": "code",
   "execution_count": 12,
   "id": "d4dd8139",
   "metadata": {},
   "outputs": [],
   "source": [
    "normalised_output = normalise(features)"
   ]
  },
  {
   "cell_type": "code",
   "execution_count": 17,
   "id": "70bd9dd5",
   "metadata": {},
   "outputs": [],
   "source": [
    "#Try developing a linear regression model for binary classification using the step transfer\n",
    "#function using the data produced from Iris binary classification case. \n",
    "#Use 60 percent of data picked randomly for training and remaining for testing. \n",
    "def linear_regre(x,y,percent):\n",
    "    X_train, X_test, y_train, y_test = train_test_split(x, y, test_size=percent, random_state=1)\n",
    "    reg = LinearRegression().fit(X_train, y_train)\n",
    "    y_pred = reg.predict(X_test)\n",
    "    rmse = np.sqrt(mean_squared_error(y_test, y_pred))\n",
    "    r_squared = r2_score(y_test, y_pred)\n",
    "    return rmse, r_squared, y_pred\n",
    "rmse_normalised, r_squred_normalised, y_pred = linear_regre(features, y, 0.4)"
   ]
  },
  {
   "cell_type": "code",
   "execution_count": 18,
   "id": "f6c98e3e",
   "metadata": {},
   "outputs": [
    {
     "name": "stdout",
     "output_type": "stream",
     "text": [
      "Mean Squared Error with Normalisetion:  0.2416559409240553\n",
      "R2 Score with Normalisation: 0.910119137399741\n"
     ]
    }
   ],
   "source": [
    "print('Mean Squared Error with Normalisetion: ', rmse_normalised)     \n",
    "print('R2 Score with Normalisation:',r_squred_normalised)"
   ]
  },
  {
   "cell_type": "code",
   "execution_count": 19,
   "id": "08193ab6",
   "metadata": {},
   "outputs": [
    {
     "data": {
      "text/plain": [
       "array([0.64572678, 1.85061294, 2.12524649, 0.8807635 , 2.83898152,\n",
       "       2.43276559, 2.71111337, 1.19356111, 1.06878519, 2.94979018,\n",
       "       2.2724569 , 1.03596351, 2.87077268, 2.27685683, 2.37372564,\n",
       "       1.03825957, 2.08792334, 2.49410162, 0.92897953, 0.82771079,\n",
       "       2.32899775, 2.55135121, 2.46084319, 0.92794834, 2.76127999,\n",
       "       2.2109089 , 0.82095476, 0.99455393, 2.28540256, 2.63357273,\n",
       "       2.34597048, 2.86423823, 2.05668898, 2.94299266, 3.05216291,\n",
       "       0.88762038, 2.19997451, 0.85981479, 2.26352486, 2.7856664 ,\n",
       "       2.80144706, 0.93812355, 2.52658808, 2.84607276, 2.15316254,\n",
       "       3.15113107, 0.90040516, 0.92881798, 0.99461396, 2.31436324,\n",
       "       0.92723959, 0.7410172 , 3.10024544, 2.73989905, 2.83142482,\n",
       "       2.98679982, 2.55842074, 2.44691677, 2.95386317, 2.21765533])"
      ]
     },
     "execution_count": 19,
     "metadata": {},
     "output_type": "execute_result"
    }
   ],
   "source": [
    "y_pred"
   ]
  },
  {
   "cell_type": "code",
   "execution_count": 20,
   "id": "ccf2264d",
   "metadata": {},
   "outputs": [],
   "source": [
    "y_pred_int = np.heaviside(y_pred, 1) "
   ]
  },
  {
   "cell_type": "code",
   "execution_count": 21,
   "id": "67382b28",
   "metadata": {},
   "outputs": [
    {
     "data": {
      "text/plain": [
       "array([1., 1., 1., 1., 1., 1., 1., 1., 1., 1., 1., 1., 1., 1., 1., 1., 1.,\n",
       "       1., 1., 1., 1., 1., 1., 1., 1., 1., 1., 1., 1., 1., 1., 1., 1., 1.,\n",
       "       1., 1., 1., 1., 1., 1., 1., 1., 1., 1., 1., 1., 1., 1., 1., 1., 1.,\n",
       "       1., 1., 1., 1., 1., 1., 1., 1., 1.])"
      ]
     },
     "execution_count": 21,
     "metadata": {},
     "output_type": "execute_result"
    }
   ],
   "source": [
    "y_pred_int"
   ]
  },
  {
   "cell_type": "code",
   "execution_count": null,
   "id": "1a778396",
   "metadata": {},
   "outputs": [],
   "source": []
  }
 ],
 "metadata": {
  "kernelspec": {
   "display_name": "Python 3 (ipykernel)",
   "language": "python",
   "name": "python3"
  },
  "language_info": {
   "codemirror_mode": {
    "name": "ipython",
    "version": 3
   },
   "file_extension": ".py",
   "mimetype": "text/x-python",
   "name": "python",
   "nbconvert_exporter": "python",
   "pygments_lexer": "ipython3",
   "version": "3.9.12"
  }
 },
 "nbformat": 4,
 "nbformat_minor": 5
}
